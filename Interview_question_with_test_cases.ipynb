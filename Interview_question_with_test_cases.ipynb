{
 "cells": [
  {
   "cell_type": "markdown",
   "metadata": {},
   "source": [
    "Author: Nia Chang\n",
    "\n",
    "Date: 20 May 2021\n",
    "\n",
    "Comments:\n",
    "\n",
    "The function get_max_association_groups() takes a group of associated items as an input and returns the largest associated item groups:\n",
    "\n",
    "- The input associated items doesn't have to be pairs (i.e. it can [itemA, itemB, itemC]) (see test case 3 below)\n",
    "- If there are multiple largest associated item groups with the same size, all of them will be returned (see test case 4 below)\n",
    "- Breadth First Search method is applied. We can consider the association relationships as a undirected graph. Each item is considered as a vertex and the association relations are considered as edges. Therefore, this questions is actually looking for the largest connected component in the graph.\n",
    "- The output will be in lexicographically order. It is achieved with the bubble_sort() function. It can be done with the built-in sorted() function as well.\n",
    "\n"
   ]
  },
  {
   "cell_type": "code",
   "execution_count": 1,
   "metadata": {},
   "outputs": [],
   "source": [
    "import itertools\n",
    "\n",
    "\n",
    "def BFS_Graph(graph_dict,start, visited):\n",
    "    cc = []\n",
    "    queue = [] \n",
    "    queue.append(start)\n",
    "\n",
    "    while (len(queue)> 0):\n",
    "        v = queue.pop(0)\n",
    "        adj_v = graph_dict[v]\n",
    "        \n",
    "        for w in adj_v:\n",
    "            if w not in visited:\n",
    "                queue.append(w)\n",
    "                visited.add(w)\n",
    "        cc.append(v)\n",
    "    return visited, cc\n",
    "\n",
    "\n",
    "# Bubble sort could be replaced with the built in function sorted()\n",
    "def bubble_sort (items,order):\n",
    "    if order not in ('a', 'd'):\n",
    "        print('Please select a valid order and re-try')\n",
    "        return None\n",
    "\n",
    "    else:\n",
    "        sorted_list = []\n",
    "        \n",
    "        while items != []:\n",
    "            # start with assume the first element is the min one\n",
    "            min_i = items[0]\n",
    "\n",
    "            for i in range(1,len(items)):\n",
    "                curr_i = items[i]  \n",
    "                if curr_i < min_i:\n",
    "                    min_i = curr_i\n",
    "                    \n",
    "            # get the item and remove from the list     \n",
    "            index = items.index(min_i)\n",
    "            sorted_item = items.pop(index)\n",
    "            sorted_list.append(sorted_item)\n",
    "        if order == 'a':\n",
    "            #print(sorted_list)\n",
    "            return sorted_list\n",
    "        \n",
    "        else:\n",
    "            #reverse the list if descent\n",
    "            rev_list = sorted_list[::-1]\n",
    "            #print(rev_list)\n",
    "            return rev_list\n",
    "     \n",
    "    \n",
    "def get_max_association_groups(item_groups):\n",
    "    \n",
    "    # Step 1: Create graph \n",
    "    # Consider each item as a node in the graph and the association connection as an edge that connect the nodes\n",
    "    # Can handle the associated groups that is not a pair as well\n",
    "\n",
    "    # Initialization: create nodes\n",
    "    all_items = list(set([item for group in item_groups for item in group]))\n",
    "    item_dict = {item:[] for item in all_items}\n",
    "    all_components = []\n",
    "\n",
    "    # Add edges\n",
    "    for group in item_groups:\n",
    "        combos = list(itertools.combinations(group, 2))\n",
    "        for combo in combos:\n",
    "            n = combo[0]\n",
    "            m = combo[1]\n",
    "            if m not in item_dict[n]:\n",
    "                item_dict[n].append(m)\n",
    "            if n not in item_dict[m]:\n",
    "                item_dict[m].append(n)\n",
    "\n",
    "    # Step 2: Looking for connected component\n",
    "    # start with random item\n",
    "    # each vertex is unique\n",
    "    visited = set()\n",
    "    while len(all_items) > 0:\n",
    "\n",
    "        start = all_items.pop(0)\n",
    "        visited.add(start)\n",
    "        visited, connected_component = BFS_Graph(item_dict, start, visited)\n",
    "        # Bubble sort could be replaced with the built in function sorted()\n",
    "        all_components.append(bubble_sort(connected_component,'a'))\n",
    "        for item in visited:\n",
    "            if item in all_items:\n",
    "                all_items.remove(item)\n",
    "                \n",
    "    # Step 3: return max group  \n",
    "    max_size = max(len(component) for component in all_components)\n",
    "    results = [component for component in all_components if len(component) == max_size]\n",
    "    for cc in results:\n",
    "        print(cc)\n",
    "    return(results)\n"
   ]
  },
  {
   "cell_type": "code",
   "execution_count": 2,
   "metadata": {},
   "outputs": [
    {
     "name": "stdout",
     "output_type": "stream",
     "text": [
      "['Toyota Ascent', 'Toyota Prius', 'Toyota Yaris']\n"
     ]
    }
   ],
   "source": [
    "# test case 1\n",
    "item_groups = [\n",
    "               #['Mazda 3', 'Toyota Yaris'],\n",
    "               ['Toyota Corolla', 'Toyota Camry'], \n",
    "               #['Mazda Cx9', 'Toyota Klugar'], \n",
    "               ['Toyota Prius', 'Toyota Yaris'],\n",
    "               #['Mazda Cx3', 'Mazda Cx5'],\n",
    "               ['Toyota Ascent', 'Toyota Yaris']\n",
    "               #['Toyota Asce','Toyota Yaris'],\n",
    "               #['Mazda Cx3', 'Mazda 3']\n",
    "              ]\n",
    "max_associate_groups = get_max_association_groups(item_groups)"
   ]
  },
  {
   "cell_type": "code",
   "execution_count": 3,
   "metadata": {},
   "outputs": [
    {
     "name": "stdout",
     "output_type": "stream",
     "text": [
      "['Mazda 3', 'Mazda Cx3', 'Mazda Cx5', 'Toyota Asce', 'Toyota Ascent', 'Toyota Prius', 'Toyota Yaris']\n"
     ]
    }
   ],
   "source": [
    "# test case 2\n",
    "item_groups = [\n",
    "               ['Mazda 3', 'Toyota Yaris'],\n",
    "               ['Toyota Corolla', 'Toyota Camry'], \n",
    "               ['Mazda Cx9', 'Toyota Klugar'], \n",
    "               ['Toyota Prius', 'Toyota Yaris'],\n",
    "               ['Mazda Cx3', 'Mazda Cx5'],\n",
    "               ['Toyota Ascent', 'Toyota Yaris'],\n",
    "               ['Toyota Asce','Toyota Yaris'],\n",
    "               ['Mazda Cx3', 'Mazda 3']\n",
    "              ]\n",
    "max_associate_groups = get_max_association_groups(item_groups)"
   ]
  },
  {
   "cell_type": "code",
   "execution_count": 4,
   "metadata": {},
   "outputs": [
    {
     "name": "stdout",
     "output_type": "stream",
     "text": [
      "['Toyota Ascent', 'Toyota Camry', 'Toyota Corolla', 'Toyota Prius', 'Toyota Yaris']\n"
     ]
    }
   ],
   "source": [
    "# test case 3\n",
    "item_groups = [\n",
    "               ['Toyota Corolla', 'Toyota Camry'], \n",
    "               ['Mazda Cx9', 'Toyota Klugar'], \n",
    "               ['Toyota Prius', 'Toyota Yaris'],\n",
    "               ['Mazda Cx3', 'Mazda Cx5','Mazda 3'],\n",
    "               ['Toyota Ascent', 'Toyota Yaris','Toyota Corolla']]\n",
    "max_associate_groups = get_max_association_groups(item_groups)"
   ]
  },
  {
   "cell_type": "code",
   "execution_count": 5,
   "metadata": {},
   "outputs": [
    {
     "name": "stdout",
     "output_type": "stream",
     "text": [
      "['Mazda 3', 'Mazda Cx3', 'Mazda Cx5']\n",
      "['Toyota Ascent', 'Toyota Prius', 'Toyota Yaris']\n"
     ]
    }
   ],
   "source": [
    "# test case 4\n",
    "item_groups = [\n",
    "               ['Toyota Corolla', 'Toyota Camry'], \n",
    "               ['Mazda Cx9', 'Toyota Klugar'], \n",
    "               ['Toyota Prius', 'Toyota Yaris'],\n",
    "               ['Mazda Cx3', 'Mazda Cx5'],\n",
    "               ['Toyota Ascent', 'Toyota Yaris'],\n",
    "               ['Mazda Cx3', 'Mazda 3']\n",
    "              ]\n",
    "max_associate_groups = get_max_association_groups(item_groups)"
   ]
  },
  {
   "cell_type": "code",
   "execution_count": 6,
   "metadata": {},
   "outputs": [
    {
     "name": "stdout",
     "output_type": "stream",
     "text": [
      "['Nissan Juke', 'Toyota Ascent', 'Toyota Camry', 'Toyota Corolla', 'Toyota Prius', 'Toyota Yaris']\n"
     ]
    }
   ],
   "source": [
    "# test case 5\n",
    "item_groups = [\n",
    "               ['Toyota Corolla', 'Toyota Camry'], \n",
    "               ['Mazda Cx9', 'Toyota Klugar'], \n",
    "               ['Toyota Prius', 'Toyota Yaris'],\n",
    "               ['Mazda Cx3', 'Mazda Cx5','Mazda 3'],\n",
    "               ['Toyota Ascent', 'Toyota Yaris','Toyota Corolla'],\n",
    "               ['Toyota Prius', 'Nissan Juke']\n",
    "              ]\n",
    "max_associate_groups = get_max_association_groups(item_groups)"
   ]
  },
  {
   "cell_type": "code",
   "execution_count": null,
   "metadata": {},
   "outputs": [],
   "source": []
  }
 ],
 "metadata": {
  "kernelspec": {
   "display_name": "Python 3",
   "language": "python",
   "name": "python3"
  },
  "language_info": {
   "codemirror_mode": {
    "name": "ipython",
    "version": 3
   },
   "file_extension": ".py",
   "mimetype": "text/x-python",
   "name": "python",
   "nbconvert_exporter": "python",
   "pygments_lexer": "ipython3",
   "version": "3.8.5"
  }
 },
 "nbformat": 4,
 "nbformat_minor": 4
}
